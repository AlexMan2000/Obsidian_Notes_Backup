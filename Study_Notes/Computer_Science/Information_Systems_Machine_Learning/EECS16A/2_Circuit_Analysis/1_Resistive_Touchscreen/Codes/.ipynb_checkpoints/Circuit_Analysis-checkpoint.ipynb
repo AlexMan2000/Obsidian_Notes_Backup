{
 "cells": [
  {
   "cell_type": "code",
   "execution_count": 1,
   "id": "b1339a45",
   "metadata": {},
   "outputs": [],
   "source": [
    "import numpy as np\n",
    "import matplotlib.pyplot as plt\n",
    "%matplotlib inline"
   ]
  },
  {
   "cell_type": "code",
   "execution_count": 3,
   "id": "82ce3576",
   "metadata": {},
   "outputs": [],
   "source": [
    "A = np.array([[1,2,3],[4,5,6],[7,6,9]])\n",
    "b = np.array([1,2,3])\n",
    "x = np.linalg.solve(A,b)"
   ]
  },
  {
   "cell_type": "code",
   "execution_count": 6,
   "id": "7486dc2c",
   "metadata": {},
   "outputs": [
    {
     "data": {
      "text/plain": [
       "(array([15.34013637, -1.07072618,  0.7305898 ]),\n",
       " array([[-0.24378593, -0.80424681,  0.06483701],\n",
       "        [-0.55557287, -0.05493851, -0.83297711],\n",
       "        [-0.79492591,  0.59175065,  0.54949549]]))"
      ]
     },
     "execution_count": 6,
     "metadata": {},
     "output_type": "execute_result"
    }
   ],
   "source": [
    "np.linalg.eig(A)"
   ]
  },
  {
   "cell_type": "code",
   "execution_count": null,
   "id": "193069a4",
   "metadata": {},
   "outputs": [],
   "source": []
  }
 ],
 "metadata": {
  "kernelspec": {
   "display_name": "Python 3",
   "language": "python",
   "name": "python3"
  },
  "language_info": {
   "codemirror_mode": {
    "name": "ipython",
    "version": 3
   },
   "file_extension": ".py",
   "mimetype": "text/x-python",
   "name": "python",
   "nbconvert_exporter": "python",
   "pygments_lexer": "ipython3",
   "version": "3.8.5"
  }
 },
 "nbformat": 4,
 "nbformat_minor": 5
}
